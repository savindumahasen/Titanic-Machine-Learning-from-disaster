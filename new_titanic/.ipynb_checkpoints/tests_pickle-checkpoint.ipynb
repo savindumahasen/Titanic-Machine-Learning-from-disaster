{
 "cells": [
  {
   "cell_type": "code",
   "execution_count": 1,
   "id": "6731e93a-0310-454a-b9e7-a6ceab07025b",
   "metadata": {},
   "outputs": [],
   "source": [
    "import pickle\n",
    "model = pickle.load(open('model.h5', 'rb'))"
   ]
  },
  {
   "cell_type": "code",
   "execution_count": 2,
   "id": "97630008-5e28-41d6-a100-f61ce1068573",
   "metadata": {},
   "outputs": [],
   "source": [
    "import pandas as pd"
   ]
  },
  {
   "cell_type": "code",
   "execution_count": 10,
   "id": "f9ab9499-cb73-45b5-9a5a-6a1e7ca1e710",
   "metadata": {},
   "outputs": [
    {
     "name": "stdout",
     "output_type": "stream",
     "text": [
      "So Sorry! Not survived\n"
     ]
    },
    {
     "name": "stderr",
     "output_type": "stream",
     "text": [
      "/home/gaji/.local/lib/python3.10/site-packages/sklearn/base.py:465: UserWarning: X does not have valid feature names, but RandomForestClassifier was fitted with feature names\n",
      "  warnings.warn(\n"
     ]
    }
   ],
   "source": [
    "# PassengerId    0\n",
    "# Pclass         0\n",
    "# Sex            male: 0 female:1\n",
    "# Age            0\n",
    "# SibSp          0\n",
    "# Parch          0\n",
    "# Fare           0\n",
    "# Embarked       'S':0,'C':1,'Q':2\n",
    "\n",
    "pred = model.predict([[1,3,0,22.0,1,0,7.25,0]])\n",
    "if pred[0] == 0:\n",
    "  print(\"So Sorry! Not survived\")\n",
    "else:\n",
    "  print(\"Survived\")"
   ]
  },
  {
   "cell_type": "code",
   "execution_count": null,
   "id": "e10927f2-7e7e-4714-8616-ac1838745ca7",
   "metadata": {},
   "outputs": [],
   "source": []
  }
 ],
 "metadata": {
  "kernelspec": {
   "display_name": "Python 3 (ipykernel)",
   "language": "python",
   "name": "python3"
  },
  "language_info": {
   "codemirror_mode": {
    "name": "ipython",
    "version": 3
   },
   "file_extension": ".py",
   "mimetype": "text/x-python",
   "name": "python",
   "nbconvert_exporter": "python",
   "pygments_lexer": "ipython3",
   "version": "3.12.1"
  }
 },
 "nbformat": 4,
 "nbformat_minor": 5
}
